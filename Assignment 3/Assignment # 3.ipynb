{
 "cells": [
  {
   "cell_type": "code",
   "execution_count": 2,
   "id": "e786c858",
   "metadata": {},
   "outputs": [
    {
     "name": "stdout",
     "output_type": "stream",
     "text": [
      "Twinkle, twinkle, little star,\n",
      "         How I wonder what you are!\n",
      "                 Up above the world so high,\n",
      "                 Like a diamond in the sky.\n",
      "Twinkle, twinkle, little star,\n",
      "         How I wonder what you are!\n"
     ]
    }
   ],
   "source": [
    "\"\"\" 1. Write a Python program to print the following string in a specific format (see the\n",
    "output).\n",
    "              Twinkle, twinkle, little star,\n",
    "                       How I wonder what you are!\n",
    "                               Up above the world so high,\n",
    "                               Like a diamond in the sky.\n",
    "              Twinkle, twinkle, little star,\n",
    "                       How I wonder what you are\"\"\"\n",
    "print(\"Twinkle, twinkle, little star,\\n         How I wonder what you are!\\n                 Up above the world so high,\\n                 Like a diamond in the sky.\\nTwinkle, twinkle, little star,\\n         How I wonder what you are!\")"
   ]
  },
  {
   "cell_type": "code",
   "execution_count": 3,
   "id": "59d957b7",
   "metadata": {},
   "outputs": [
    {
     "name": "stdout",
     "output_type": "stream",
     "text": [
      "3.8.8 (default, Apr 13 2021, 15:08:03) [MSC v.1916 64 bit (AMD64)]\n"
     ]
    }
   ],
   "source": [
    "# 2. Write a Python program to get the Python version you are using\n",
    "import sys\n",
    "print(sys.version)"
   ]
  },
  {
   "cell_type": "code",
   "execution_count": 4,
   "id": "d6b8f9d6",
   "metadata": {},
   "outputs": [
    {
     "name": "stdout",
     "output_type": "stream",
     "text": [
      "2021-10-23 16:04:21.788699\n"
     ]
    }
   ],
   "source": [
    "# 3. Write a Python program to display the current date and time.\n",
    "import datetime;\n",
    "print(datetime.datetime.now())"
   ]
  },
  {
   "cell_type": "code",
   "execution_count": 41,
   "id": "d3e40489",
   "metadata": {},
   "outputs": [
    {
     "name": "stdout",
     "output_type": "stream",
     "text": [
      "Radius of a circle : 123\n",
      "Area of a circle: 47529.15525615998\n"
     ]
    }
   ],
   "source": [
    "\"\"\" 4. Write a Python program which accepts the radius of a circle from the user and compute\n",
    "the area.\"\"\"\n",
    "from math import pi\n",
    "r = float(input (\"Radius of a circle : \"))\n",
    "print (\"Area of a circle:\",str(pi * r**2))"
   ]
  },
  {
   "cell_type": "code",
   "execution_count": 6,
   "id": "52f1d681",
   "metadata": {},
   "outputs": [
    {
     "name": "stdout",
     "output_type": "stream",
     "text": [
      "First Name: Bilal\n",
      "Last Name: Memon\n",
      "nomeM laliB\n"
     ]
    }
   ],
   "source": [
    "\"\"\" 5. Write a Python program which accepts the user's first and last name and print them in\n",
    "reverse order with a space between them.\"\"\"\n",
    "firstName=input(\"First Name: \")\n",
    "lastName=input(\"Last Name: \")\n",
    "reverseOrder=firstName+\" \"+lastName\n",
    "print(reverseOrder[::-1]);"
   ]
  },
  {
   "cell_type": "code",
   "execution_count": 10,
   "id": "7e7d1265",
   "metadata": {},
   "outputs": [
    {
     "name": "stdout",
     "output_type": "stream",
     "text": [
      "first number: 10\n",
      "second number: 21\n",
      "sum: 31\n"
     ]
    }
   ],
   "source": [
    "# 6. Write a python program which takes two inputs from user and print them addition\n",
    "a = input(\"first number: \");\n",
    "b = input(\"second number: \");\n",
    "if a.isdigit()==True and b.isdigit()==True:\n",
    "    print(\"Sum:\",int(a)+int(b));\n",
    "else:\n",
    "    print(\"Please enter numeric value!\")"
   ]
  },
  {
   "cell_type": "code",
   "execution_count": 12,
   "id": "5f45bbcb",
   "metadata": {},
   "outputs": [
    {
     "name": "stdout",
     "output_type": "stream",
     "text": [
      "English marks: 60\n",
      "Islamiat marks: 70\n",
      "Maths marks: 80\n",
      "Chemistry marks: 90\n",
      "Physics marks: 99\n",
      "Grade: A\n"
     ]
    }
   ],
   "source": [
    "\"\"\" 7. Write a program which takes 5 inputs from user for different subject’s marks, total it\n",
    "and generate mark sheet using grades ?\"\"\"\n",
    "english=input(\"English marks: \");\n",
    "islamiat=input(\"Islamiat marks: \");\n",
    "maths=input(\"Maths marks: \");\n",
    "chemistry=input(\"Chemistry marks: \");\n",
    "physics=input(\"Physics marks: \");\n",
    "\n",
    "if english.isdigit()==True and islamiat.isdigit()==True and maths.isdigit()==True and chemistry.isdigit()==True and physics.isdigit()==True:\n",
    "    totalMarks=(int(english)+int(islamiat)+int(maths)+int(chemistry)+int(physics));\n",
    "    percent=totalMarks/500*100\n",
    "    if int(english)<=100 and int(english)>=0 and int(islamiat)<=100 and int(islamiat)>=0 and int(maths)<=100 and int(maths)>=0 and int(chemistry)<=100 and int(chemistry)>=0 and int(physics)<=100 and int(physics)>=0:\n",
    "        if percent >= 80 and percent <= 100:\n",
    "            print(\"Grade: A+\");\n",
    "        elif percent >= 70 and percent < 80:\n",
    "            print(\"Grade: A\");\n",
    "        elif percent >= 60 and percent < 70:\n",
    "            print(\"Grade: B\");\n",
    "        elif percent >= 50 and percent < 60:\n",
    "            print(\"Grade: C\");\n",
    "        elif percent >= 40 and percent < 50:\n",
    "            print(\"Grade: D\");\n",
    "        elif percent >= 33 and percent < 40:\n",
    "            print(\"Grade: E\");\n",
    "        elif percent >= 0 and percent < 33 :\n",
    "            print(\"Fail\");\n",
    "    else:\n",
    "        print(\"You didnot write correct marks\");\n",
    "else:\n",
    "    print(\"Please enter numeric value!\")\n"
   ]
  },
  {
   "cell_type": "code",
   "execution_count": 13,
   "id": "19531eda",
   "metadata": {},
   "outputs": [
    {
     "name": "stdout",
     "output_type": "stream",
     "text": [
      "Enter Number: 21232516\n",
      "The given number is even\n"
     ]
    }
   ],
   "source": [
    "\"\"\" 8. Write a program which take input from user and identify that the given number is even\n",
    "or odd?\"\"\"\n",
    "num=input(\"Enter Number: \"); \n",
    "if num.isdigit()==True:\n",
    "    if int(num) % 2 == 0:\n",
    "        print(\"The given number is even\") \n",
    "    else:\n",
    "        print(\"The given number is odd\")\n",
    "else:\n",
    "    print(\"Please enter numeric value!\")"
   ]
  },
  {
   "cell_type": "code",
   "execution_count": 43,
   "id": "0f26d57f",
   "metadata": {},
   "outputs": [
    {
     "name": "stdout",
     "output_type": "stream",
     "text": [
      "The Length of the list: 3\n"
     ]
    }
   ],
   "source": [
    "# 9. Write a program which print the length of the list?\n",
    "name=[\"Muhammad\",\"Bilal\",\"Memon\"];\n",
    "nameLength=len(name);\n",
    "print(\"The Length of the list:\",nameLength);"
   ]
  },
  {
   "cell_type": "code",
   "execution_count": 32,
   "id": "446138c7",
   "metadata": {},
   "outputs": [
    {
     "name": "stdout",
     "output_type": "stream",
     "text": [
      "Sum: 10220\n"
     ]
    }
   ],
   "source": [
    "# 10.Write a Python program to sum all the numeric items in a list?\n",
    "a=[\"Muhammad\",\"20\",\"Bilal\",\"4\",\"0\",\"10\",\"Memon\",\"20\",\"10154\",\"12\"]\n",
    "b = []\n",
    "for i in a:\n",
    "    if i.isdigit()==True:\n",
    "        b.append(int(i))\n",
    "print(\"Sum:\",sum(b))"
   ]
  },
  {
   "cell_type": "code",
   "execution_count": 36,
   "id": "0085e150",
   "metadata": {},
   "outputs": [
    {
     "name": "stdout",
     "output_type": "stream",
     "text": [
      "Largest number: 1231545\n"
     ]
    }
   ],
   "source": [
    "# 11.Write a Python program to get the largest number from a numeric list.\n",
    "number = [211,1231,1231545]\n",
    "largestNumber = max(number) \n",
    "print(\"Largest number:\",largestNumber)"
   ]
  },
  {
   "cell_type": "code",
   "execution_count": 40,
   "id": "0284e3d4",
   "metadata": {},
   "outputs": [
    {
     "name": "stdout",
     "output_type": "stream",
     "text": [
      "Number less than 5 in list:\n",
      "1\n",
      "1\n",
      "2\n",
      "3\n"
     ]
    }
   ],
   "source": [
    "\"\"\" 12. Take a list, say for example this one:\n",
    "        a = [1, 1, 2, 3, 5, 8, 13, 21, 34, 55, 89]\n",
    "        Write a program that prints out all the elements of the list that are less than 5.\"\"\"\n",
    "a = [1, 1, 2, 3, 5, 8, 13, 21, 34, 55, 89]\n",
    "print(\"Number less than 5 in list:\")\n",
    "for i in a:\n",
    "    if i < 5:\n",
    "        print(i)"
   ]
  },
  {
   "cell_type": "code",
   "execution_count": null,
   "id": "209a43f1",
   "metadata": {},
   "outputs": [],
   "source": []
  }
 ],
 "metadata": {
  "kernelspec": {
   "display_name": "Python 3",
   "language": "python",
   "name": "python3"
  },
  "language_info": {
   "codemirror_mode": {
    "name": "ipython",
    "version": 3
   },
   "file_extension": ".py",
   "mimetype": "text/x-python",
   "name": "python",
   "nbconvert_exporter": "python",
   "pygments_lexer": "ipython3",
   "version": "3.8.8"
  }
 },
 "nbformat": 4,
 "nbformat_minor": 5
}
